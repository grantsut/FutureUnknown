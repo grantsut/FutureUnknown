{
 "cells": [
  {
   "cell_type": "markdown",
   "metadata": {},
   "source": [
    "Here we'll demonstrate the main features of FutureUnknown  \n",
    "\n",
    "First we'll load an example time series. For this we'll use data from [FRED](fred.stlouisfed.org), specifically the monthly average price of potato chips in the us. This will be loaded and formatted as a time series in pandas."
   ]
  },
  {
   "cell_type": "code",
   "execution_count": 1,
   "metadata": {},
   "outputs": [
    {
     "data": {
      "text/html": [
       "<div>\n",
       "<style scoped>\n",
       "    .dataframe tbody tr th:only-of-type {\n",
       "        vertical-align: middle;\n",
       "    }\n",
       "\n",
       "    .dataframe tbody tr th {\n",
       "        vertical-align: top;\n",
       "    }\n",
       "\n",
       "    .dataframe thead th {\n",
       "        text-align: right;\n",
       "    }\n",
       "</style>\n",
       "<table border=\"1\" class=\"dataframe\">\n",
       "  <thead>\n",
       "    <tr style=\"text-align: right;\">\n",
       "      <th></th>\n",
       "      <th>chips_price</th>\n",
       "    </tr>\n",
       "    <tr>\n",
       "      <th>date</th>\n",
       "      <th></th>\n",
       "    </tr>\n",
       "  </thead>\n",
       "  <tbody>\n",
       "    <tr>\n",
       "      <th>1980-01-01</th>\n",
       "      <td>1.981</td>\n",
       "    </tr>\n",
       "    <tr>\n",
       "      <th>1980-02-01</th>\n",
       "      <td>1.994</td>\n",
       "    </tr>\n",
       "    <tr>\n",
       "      <th>1980-03-01</th>\n",
       "      <td>2.003</td>\n",
       "    </tr>\n",
       "    <tr>\n",
       "      <th>1980-04-01</th>\n",
       "      <td>2.006</td>\n",
       "    </tr>\n",
       "    <tr>\n",
       "      <th>1980-05-01</th>\n",
       "      <td>2.006</td>\n",
       "    </tr>\n",
       "    <tr>\n",
       "      <th>...</th>\n",
       "      <td>...</td>\n",
       "    </tr>\n",
       "    <tr>\n",
       "      <th>2023-02-01</th>\n",
       "      <td>6.171</td>\n",
       "    </tr>\n",
       "    <tr>\n",
       "      <th>2023-03-01</th>\n",
       "      <td>6.526</td>\n",
       "    </tr>\n",
       "    <tr>\n",
       "      <th>2023-04-01</th>\n",
       "      <td>6.623</td>\n",
       "    </tr>\n",
       "    <tr>\n",
       "      <th>2023-05-01</th>\n",
       "      <td>6.454</td>\n",
       "    </tr>\n",
       "    <tr>\n",
       "      <th>2023-06-01</th>\n",
       "      <td>6.283</td>\n",
       "    </tr>\n",
       "  </tbody>\n",
       "</table>\n",
       "<p>522 rows × 1 columns</p>\n",
       "</div>"
      ],
      "text/plain": [
       "            chips_price\n",
       "date                   \n",
       "1980-01-01        1.981\n",
       "1980-02-01        1.994\n",
       "1980-03-01        2.003\n",
       "1980-04-01        2.006\n",
       "1980-05-01        2.006\n",
       "...                 ...\n",
       "2023-02-01        6.171\n",
       "2023-03-01        6.526\n",
       "2023-04-01        6.623\n",
       "2023-05-01        6.454\n",
       "2023-06-01        6.283\n",
       "\n",
       "[522 rows x 1 columns]"
      ]
     },
     "execution_count": 1,
     "metadata": {},
     "output_type": "execute_result"
    }
   ],
   "source": [
    "import pandas as pd\n",
    "\n",
    "path = \"../data/raw/APU0000718311.csv\"\n",
    "data = pd.read_csv(path)\n",
    "data[\"DATE\"] = pd.to_datetime(data[\"DATE\"])\n",
    "data = data.rename(columns={\"APU0000718311\": \"chips_price\", \"DATE\": \"date\"})\n",
    "data = data.set_index(\"date\")\n",
    "\n",
    "data = data.dropna()\n",
    "data.index.freq = pd.infer_freq(data.index)\n",
    "data"
   ]
  },
  {
   "cell_type": "markdown",
   "metadata": {},
   "source": [
    "Now we'll use the create_lagged_values function to add extra columns which contain values from previous months. Items are input into the forecasting model as single rows, so lagged columns are necessary if historical values are to be used for forecasting."
   ]
  },
  {
   "cell_type": "code",
   "execution_count": 2,
   "metadata": {},
   "outputs": [
    {
     "data": {
      "text/html": [
       "<div>\n",
       "<style scoped>\n",
       "    .dataframe tbody tr th:only-of-type {\n",
       "        vertical-align: middle;\n",
       "    }\n",
       "\n",
       "    .dataframe tbody tr th {\n",
       "        vertical-align: top;\n",
       "    }\n",
       "\n",
       "    .dataframe thead th {\n",
       "        text-align: right;\n",
       "    }\n",
       "</style>\n",
       "<table border=\"1\" class=\"dataframe\">\n",
       "  <thead>\n",
       "    <tr style=\"text-align: right;\">\n",
       "      <th></th>\n",
       "      <th>chips_price</th>\n",
       "      <th>chips_price_lag1</th>\n",
       "      <th>chips_price_lag2</th>\n",
       "      <th>chips_price_lag3</th>\n",
       "      <th>chips_price_lag4</th>\n",
       "      <th>chips_price_lag5</th>\n",
       "      <th>chips_price_lag6</th>\n",
       "    </tr>\n",
       "    <tr>\n",
       "      <th>date</th>\n",
       "      <th></th>\n",
       "      <th></th>\n",
       "      <th></th>\n",
       "      <th></th>\n",
       "      <th></th>\n",
       "      <th></th>\n",
       "      <th></th>\n",
       "    </tr>\n",
       "  </thead>\n",
       "  <tbody>\n",
       "    <tr>\n",
       "      <th>1980-07-01</th>\n",
       "      <td>2.012</td>\n",
       "      <td>2.018</td>\n",
       "      <td>2.006</td>\n",
       "      <td>2.006</td>\n",
       "      <td>2.003</td>\n",
       "      <td>1.994</td>\n",
       "      <td>1.981</td>\n",
       "    </tr>\n",
       "    <tr>\n",
       "      <th>1980-08-01</th>\n",
       "      <td>2.046</td>\n",
       "      <td>2.012</td>\n",
       "      <td>2.018</td>\n",
       "      <td>2.006</td>\n",
       "      <td>2.006</td>\n",
       "      <td>2.003</td>\n",
       "      <td>1.994</td>\n",
       "    </tr>\n",
       "    <tr>\n",
       "      <th>1980-09-01</th>\n",
       "      <td>2.035</td>\n",
       "      <td>2.046</td>\n",
       "      <td>2.012</td>\n",
       "      <td>2.018</td>\n",
       "      <td>2.006</td>\n",
       "      <td>2.006</td>\n",
       "      <td>2.003</td>\n",
       "    </tr>\n",
       "    <tr>\n",
       "      <th>1980-10-01</th>\n",
       "      <td>2.066</td>\n",
       "      <td>2.035</td>\n",
       "      <td>2.046</td>\n",
       "      <td>2.012</td>\n",
       "      <td>2.018</td>\n",
       "      <td>2.006</td>\n",
       "      <td>2.006</td>\n",
       "    </tr>\n",
       "    <tr>\n",
       "      <th>1980-11-01</th>\n",
       "      <td>2.138</td>\n",
       "      <td>2.066</td>\n",
       "      <td>2.035</td>\n",
       "      <td>2.046</td>\n",
       "      <td>2.012</td>\n",
       "      <td>2.018</td>\n",
       "      <td>2.006</td>\n",
       "    </tr>\n",
       "    <tr>\n",
       "      <th>...</th>\n",
       "      <td>...</td>\n",
       "      <td>...</td>\n",
       "      <td>...</td>\n",
       "      <td>...</td>\n",
       "      <td>...</td>\n",
       "      <td>...</td>\n",
       "      <td>...</td>\n",
       "    </tr>\n",
       "    <tr>\n",
       "      <th>2023-02-01</th>\n",
       "      <td>6.171</td>\n",
       "      <td>6.238</td>\n",
       "      <td>6.283</td>\n",
       "      <td>6.253</td>\n",
       "      <td>6.402</td>\n",
       "      <td>6.058</td>\n",
       "      <td>5.941</td>\n",
       "    </tr>\n",
       "    <tr>\n",
       "      <th>2023-03-01</th>\n",
       "      <td>6.526</td>\n",
       "      <td>6.171</td>\n",
       "      <td>6.238</td>\n",
       "      <td>6.283</td>\n",
       "      <td>6.253</td>\n",
       "      <td>6.402</td>\n",
       "      <td>6.058</td>\n",
       "    </tr>\n",
       "    <tr>\n",
       "      <th>2023-04-01</th>\n",
       "      <td>6.623</td>\n",
       "      <td>6.526</td>\n",
       "      <td>6.171</td>\n",
       "      <td>6.238</td>\n",
       "      <td>6.283</td>\n",
       "      <td>6.253</td>\n",
       "      <td>6.402</td>\n",
       "    </tr>\n",
       "    <tr>\n",
       "      <th>2023-05-01</th>\n",
       "      <td>6.454</td>\n",
       "      <td>6.623</td>\n",
       "      <td>6.526</td>\n",
       "      <td>6.171</td>\n",
       "      <td>6.238</td>\n",
       "      <td>6.283</td>\n",
       "      <td>6.253</td>\n",
       "    </tr>\n",
       "    <tr>\n",
       "      <th>2023-06-01</th>\n",
       "      <td>6.283</td>\n",
       "      <td>6.454</td>\n",
       "      <td>6.623</td>\n",
       "      <td>6.526</td>\n",
       "      <td>6.171</td>\n",
       "      <td>6.238</td>\n",
       "      <td>6.283</td>\n",
       "    </tr>\n",
       "  </tbody>\n",
       "</table>\n",
       "<p>516 rows × 7 columns</p>\n",
       "</div>"
      ],
      "text/plain": [
       "            chips_price  chips_price_lag1  chips_price_lag2  chips_price_lag3  \\\n",
       "date                                                                            \n",
       "1980-07-01        2.012             2.018             2.006             2.006   \n",
       "1980-08-01        2.046             2.012             2.018             2.006   \n",
       "1980-09-01        2.035             2.046             2.012             2.018   \n",
       "1980-10-01        2.066             2.035             2.046             2.012   \n",
       "1980-11-01        2.138             2.066             2.035             2.046   \n",
       "...                 ...               ...               ...               ...   \n",
       "2023-02-01        6.171             6.238             6.283             6.253   \n",
       "2023-03-01        6.526             6.171             6.238             6.283   \n",
       "2023-04-01        6.623             6.526             6.171             6.238   \n",
       "2023-05-01        6.454             6.623             6.526             6.171   \n",
       "2023-06-01        6.283             6.454             6.623             6.526   \n",
       "\n",
       "            chips_price_lag4  chips_price_lag5  chips_price_lag6  \n",
       "date                                                              \n",
       "1980-07-01             2.003             1.994             1.981  \n",
       "1980-08-01             2.006             2.003             1.994  \n",
       "1980-09-01             2.006             2.006             2.003  \n",
       "1980-10-01             2.018             2.006             2.006  \n",
       "1980-11-01             2.012             2.018             2.006  \n",
       "...                      ...               ...               ...  \n",
       "2023-02-01             6.402             6.058             5.941  \n",
       "2023-03-01             6.253             6.402             6.058  \n",
       "2023-04-01             6.283             6.253             6.402  \n",
       "2023-05-01             6.238             6.283             6.253  \n",
       "2023-06-01             6.171             6.238             6.283  \n",
       "\n",
       "[516 rows x 7 columns]"
      ]
     },
     "execution_count": 2,
     "metadata": {},
     "output_type": "execute_result"
    }
   ],
   "source": [
    "from futureunknown.data import create_lagged_values\n",
    "\n",
    "data = create_lagged_values(df=data, n_lags=6, column=\"chips_price\").dropna()\n",
    "data"
   ]
  },
  {
   "cell_type": "markdown",
   "metadata": {},
   "source": [
    "Now we'll create an instance of the MultiPointRegressionForecaster class, providing a regressor instance for it to wrap as an argument. Any regression model could be used in theory, but here we'll use a linear regression model to keep things simple."
   ]
  },
  {
   "cell_type": "code",
   "execution_count": 4,
   "metadata": {},
   "outputs": [],
   "source": [
    "from futureunknown.regression import MultiPointRegressionForecaster\n",
    "from sklearn.linear_model import LinearRegression\n",
    "\n",
    "model = MultiPointRegressionForecaster(LinearRegression(), horizon=12, stride=1)"
   ]
  },
  {
   "cell_type": "markdown",
   "metadata": {},
   "source": [
    "We fit the regressor by giving it the data and specifying the column to be forecast, then create the forecast by calling the predict() method of the model. The latest values from the training data are stored internally, so no arguments have to be provided when calling predict()."
   ]
  },
  {
   "cell_type": "code",
   "execution_count": 7,
   "metadata": {},
   "outputs": [
    {
     "data": {
      "text/plain": [
       "2023-07-01    6.370919\n",
       "2023-08-01    6.441783\n",
       "2023-09-01    6.487674\n",
       "2023-10-01    6.441763\n",
       "2023-11-01    6.438440\n",
       "2023-12-01    6.500345\n",
       "2024-01-01    6.533772\n",
       "2024-02-01    6.487616\n",
       "2024-03-01    6.529156\n",
       "2024-04-01    6.556113\n",
       "2024-05-01    6.555454\n",
       "2024-06-01    6.526621\n",
       "Name: forecast, dtype: float64"
      ]
     },
     "execution_count": 7,
     "metadata": {},
     "output_type": "execute_result"
    }
   ],
   "source": [
    "model.fit(X=data, y=\"chips_price\")\n",
    "forecast = model.predict()\n",
    "forecast"
   ]
  },
  {
   "cell_type": "markdown",
   "metadata": {},
   "source": [
    "The individual points of the forecast can sometimes be a little \"bumpy\", so an optional step to fix this is to smooth the forecast with the smooth_forecast_univariate() function, which fits a univariate spline to the forecast, and optionally the historical data (to help the forecast continue smoothly on from the historical values)."
   ]
  },
  {
   "cell_type": "code",
   "execution_count": 10,
   "metadata": {},
   "outputs": [],
   "source": [
    "from futureunknown.data import smooth_forecast_univariate\n",
    "\n",
    "smoothed_forecast = smooth_forecast_univariate(\n",
    "    forecast=forecast, historical=data[\"chips_price\"], include_last_n=1, s=12\n",
    ")"
   ]
  },
  {
   "cell_type": "markdown",
   "metadata": {},
   "source": [
    "Finally, we'll plot the smoothed and unsmoothed forecasts, along with the historical values."
   ]
  },
  {
   "cell_type": "code",
   "execution_count": 16,
   "metadata": {},
   "outputs": [
    {
     "data": {
      "image/png": "[encoded data removed]",
      "text/plain": [
       "<Figure size 640x480 with 1 Axes>"
      ]
     },
     "metadata": {},
     "output_type": "display_data"
    }
   ],
   "source": [
    "# Plot original series and predictions\n",
    "ax = data[\"chips_price\"].plot()\n",
    "ax = forecast.plot(ax=ax)\n",
    "ax = smoothed_forecast.plot(ax=ax)\n",
    "_ = ax.legend()\n",
    "_ = ax.set_xlim(xmin=\"2021\")\n",
    "_ = ax.set_ylim(ymin=4)"
   ]
  }
 ],
 "metadata": {
  "kernelspec": {
   "display_name": "pt-sb",
   "language": "python",
   "name": "python3"
  },
  "language_info": {
   "codemirror_mode": {
    "name": "ipython",
    "version": 3
   },
   "file_extension": ".py",
   "mimetype": "text/x-python",
   "name": "python",
   "nbconvert_exporter": "python",
   "pygments_lexer": "ipython3",
   "version": "3.8.17"
  },
  "orig_nbformat": 4
 },
 "nbformat": 4,
 "nbformat_minor": 2
}
